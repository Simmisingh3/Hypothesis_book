{
 "cells": [
  {
   "cell_type": "markdown",
   "metadata": {},
   "source": [
    "# t-test"
   ]
  },
  {
   "cell_type": "markdown",
   "metadata": {},
   "source": [
    "## Definition\n",
    "#### A t-test is a type of inferential statistic test used to determine if there is a significant difference between the means of two groups. It is often used when data is normally distributed and population variance is unknown. The t-test is used in hypothesis testing to assess whether the observed difference between the means of the two groups is statistically significant or just due to random variation.\n",
    "#### It is employed in statistical inference, especially when there is a **limited** sample size or when the population standard deviation is **unknown**."
   ]
  },
  {
   "cell_type": "markdown",
   "metadata": {},
   "source": [
    "### Key terms in t-Test\n",
    "The most used key terms in T-test are as follows:\n",
    "\n",
    "#### **T-statistic**: The t-statistic is a measure of the difference between the means of two groups relative to the variability within each group. It is calculated as the difference between the sample means divided by the standard error of the difference. It is also known as the t-value or t-score\n",
    "If the t-value is large => the two groups belong to different groups. \n",
    "If the t-value is small => the two groups belong to the same group.\n",
    "#### **T-Distribution**: The t-distribution, commonly known as the Student’s t-distribution, is a probability distribution with tails that are thicker than those of the normal distribution. It is employed in statistical inference when working with small sample sizes and population standard deviations are unknown. The t-distribution gets closer to the normal distribution as the sample size rises.  It plays a crucial role in hypothesis testing and estimating population parameters with limited data.\n",
    "#### **Degree of freedom (df)**: The degree of freedom represents the number of values in a calculation that is free to vary. The degree of freedom (df)  tells us the number of independent variables used for calculating the estimate between 2 sample groups.\n",
    "In a t-test, the degree of freedom is calculated as the total sample size minus 1 i.e\n",
    "**df= (n-1)**     , where “n” is the number of observations in the sample. \n",
    "\n",
    "Suppose, we have 2 samples A and B. The df would be calculated as **df = (nA-1) + (nB -1)**\n",
    "#### **Significance level (α)**: It is the probability of rejecting the null hypothesis when it is true. In simpler terms, it tells us about the percentage of risk involved in saying that a difference exists between two groups when in reality it does not.\n",
    "\n",
    "Types of t-tests\n",
    "There are three types of t-tests, and they are categorized as dependent and independent t-tests.\n",
    "\n",
    "1. **One sample t-test**: Test the mean of a single group against a known mean.\n",
    "2. **Independent samples t-test**: compares the means for two groups.\n",
    "3. **Paired sample t-test**: compares means from the same group at different times (say, one year apart).\n"
   ]
  },
  {
   "cell_type": "markdown",
   "metadata": {},
   "source": [
    "# 1. One Sample t-test"
   ]
  },
  {
   "cell_type": "markdown",
   "metadata": {},
   "source": [
    "One sample t-test is one of the widely used t-tests for comparison of the sample mean of the data to a particularly given value. Used for comparing the sample mean to the true/population mean.\n",
    "\n",
    "Used when:\n",
    "1. the sample size is small. (under 30) data is collected randomly. \n",
    "2. data is approximately normally distributed."
   ]
  },
  {
   "cell_type": "markdown",
   "metadata": {},
   "source": [
    "#### formula\n",
    "\n",
    "t = (x_bar - μ)/(σ/sqrt(n))\n",
    "\n",
    "where t = t-value\n",
    "\n",
    "x_bar = sample mean\n",
    "\n",
    "μ = true/population mean\n",
    "\n",
    "σ = standard deviation\n",
    "\n",
    "n = sample size"
   ]
  },
  {
   "cell_type": "markdown",
   "metadata": {},
   "source": [
    "### Steps"
   ]
  },
  {
   "cell_type": "markdown",
   "metadata": {},
   "source": [
    "***Step 1*** - Define the null (h0) and alternative (h1) hypothesis.\n",
    "\n",
    "***Step 2*** - Calculate sample mean. (if not given) \n",
    "     [population mean, standard deviation, n is given]\n",
    "\n",
    "***Step 3*** - Put the values found in Step 1 into above formula of One sample t-test and calculate t-value. (tcal)\n",
    "\n",
    "***Step 4*** - Calculate degree of freedom (df). \n",
    "\n",
    "***Step 5*** - Take α = 0.05 if not given. Use the value of df and α and find ttable from above t-table \n",
    "        in one tailed.\n",
    "\n",
    "***Step 6*** - Compare values of t found in Step-3 and Step-5"
   ]
  },
  {
   "cell_type": "markdown",
   "metadata": {},
   "source": [
    "## Q 1. Ragini was playing cricket and she claims that she scored around  ____ runs per match. One of her fans are saying otherwise.\n",
    "#### 1. State the Null and alternative hypothesis.\n",
    "#### 2. Is her fan telling the truth where significance level is 0.05"
   ]
  },
  {
   "cell_type": "code",
   "execution_count": 1,
   "metadata": {},
   "outputs": [],
   "source": [
    "import numpy as np\n",
    "import scipy.stats as stats\n",
    "from numpy.random import randn\n",
    "import seaborn as sns \n",
    "from scipy.stats import norm\n",
    "import scipy"
   ]
  },
  {
   "cell_type": "markdown",
   "metadata": {},
   "source": [
    "### 1) Null_Hypothesis= Ho: u = 26.35\n",
    "### 2) Alternate_Hypothesis = Hi: u! = 26.35 (Two_tailed_test)\n",
    "### where, Ho = Null Hypothesis, Hi = Alternate Hypothesis and u = mean"
   ]
  },
  {
   "cell_type": "code",
   "execution_count": 4,
   "metadata": {},
   "outputs": [],
   "source": [
    "# Population Data\n",
    "my_cricket_score=[22,38,19,15,48,11,10,49,47,38,10,25,46,10,21,24,29,36,25,25,30,15,7,40,33,24,11,30]"
   ]
  },
  {
   "cell_type": "code",
   "execution_count": 9,
   "metadata": {},
   "outputs": [
    {
     "data": {
      "text/plain": [
       "28"
      ]
     },
     "execution_count": 9,
     "metadata": {},
     "output_type": "execute_result"
    }
   ],
   "source": [
    "# Population size\n",
    "len(my_cricket_score)"
   ]
  },
  {
   "cell_type": "code",
   "execution_count": 19,
   "metadata": {},
   "outputs": [
    {
     "data": {
      "text/plain": [
       "26.357142857142858"
      ]
     },
     "execution_count": 19,
     "metadata": {},
     "output_type": "execute_result"
    }
   ],
   "source": [
    "# Population Mean\n",
    "population_mean = np.mean(my_cricket_score)\n",
    "population_mean"
   ]
  },
  {
   "cell_type": "code",
   "execution_count": 20,
   "metadata": {},
   "outputs": [],
   "source": [
    "# Population standard deviation\n",
    "pop_std = np.std(my_cricket_score)"
   ]
  },
  {
   "cell_type": "code",
   "execution_count": 21,
   "metadata": {},
   "outputs": [
    {
     "data": {
      "text/plain": [
       "array([21, 15, 24, 48, 25, 40, 38, 24, 10, 29, 30, 11, 29, 24, 30])"
      ]
     },
     "execution_count": 21,
     "metadata": {},
     "output_type": "execute_result"
    }
   ],
   "source": [
    "# Sample Data\n",
    "sample_size = 15\n",
    "sample_score = np.random.choice(my_cricket_score,sample_size)\n",
    "sample_score"
   ]
  },
  {
   "cell_type": "code",
   "execution_count": 35,
   "metadata": {},
   "outputs": [
    {
     "data": {
      "text/plain": [
       "26.533333333333335"
      ]
     },
     "execution_count": 35,
     "metadata": {},
     "output_type": "execute_result"
    }
   ],
   "source": [
    "# Sample Mean\n",
    "sample_mean = np.mean(sample_score)\n",
    "sample_mean"
   ]
  },
  {
   "cell_type": "markdown",
   "metadata": {},
   "source": [
    "### t statistics"
   ]
  },
  {
   "cell_type": "code",
   "execution_count": 36,
   "metadata": {},
   "outputs": [
    {
     "data": {
      "text/plain": [
       "0.054150368261580935"
      ]
     },
     "execution_count": 36,
     "metadata": {},
     "output_type": "execute_result"
    }
   ],
   "source": [
    "# Calculate the t-statistic\n",
    "t_stats = (sample_mean-population_mean)/((pop_std)/(np.sqrt(sample_size)))\n",
    "t_stats"
   ]
  },
  {
   "cell_type": "markdown",
   "metadata": {},
   "source": [
    "### Degree of Freedom"
   ]
  },
  {
   "cell_type": "code",
   "execution_count": 26,
   "metadata": {},
   "outputs": [
    {
     "data": {
      "text/plain": [
       "14"
      ]
     },
     "execution_count": 26,
     "metadata": {},
     "output_type": "execute_result"
    }
   ],
   "source": [
    "df = sample_size-1\n",
    "df"
   ]
  },
  {
   "cell_type": "code",
   "execution_count": 49,
   "metadata": {},
   "outputs": [],
   "source": [
    "# Significance level\n",
    "significance_value = 0.05\n",
    "alpha = (significance_value/2) # 2 tailed test"
   ]
  },
  {
   "cell_type": "markdown",
   "metadata": {},
   "source": [
    "### t critical"
   ]
  },
  {
   "cell_type": "code",
   "execution_count": 50,
   "metadata": {},
   "outputs": [
    {
     "data": {
      "text/plain": [
       "2.1447866879169273"
      ]
     },
     "execution_count": 50,
     "metadata": {},
     "output_type": "execute_result"
    }
   ],
   "source": [
    "confidence_interval = 0.95\n",
    "t_critical = stats.t.ppf(1-alpha,df)\n",
    "t_critical"
   ]
  },
  {
   "cell_type": "markdown",
   "metadata": {},
   "source": [
    "### Upper and Lower limits forming Decision Boundary"
   ]
  },
  {
   "cell_type": "code",
   "execution_count": 38,
   "metadata": {},
   "outputs": [
    {
     "name": "stdout",
     "output_type": "stream",
     "text": [
      "-2.1447866879169273\n",
      "2.1447866879169273\n"
     ]
    }
   ],
   "source": [
    "t_crit_upper = +(t_critical)\n",
    "t_crit_lower = -(t_critical)\n",
    "print(t_crit_lower)\n",
    "print(t_crit_upper)"
   ]
  },
  {
   "cell_type": "markdown",
   "metadata": {},
   "source": [
    "## Conclusion"
   ]
  },
  {
   "cell_type": "markdown",
   "metadata": {},
   "source": [
    "### Conclusion based on t value"
   ]
  },
  {
   "cell_type": "code",
   "execution_count": null,
   "metadata": {},
   "outputs": [],
   "source": [
    "if t_crit_lower>t_stats or t_stats>t_crit_upper:\n",
    "    print(\"reject the null hyphothesis\")\n",
    "else:\n",
    "    print(\"fail to reject the null hyphothesis\")"
   ]
  },
  {
   "cell_type": "markdown",
   "metadata": {},
   "source": [
    "Since the t_stats falls between the lower and upper limits of t_critical, we fail to reject Null hypothesis. This means that Ragini was right."
   ]
  },
  {
   "cell_type": "markdown",
   "metadata": {},
   "source": [
    "### p Value"
   ]
  },
  {
   "cell_type": "code",
   "execution_count": 37,
   "metadata": {},
   "outputs": [
    {
     "data": {
      "text/plain": [
       "0.4787902556449969"
      ]
     },
     "execution_count": 37,
     "metadata": {},
     "output_type": "execute_result"
    }
   ],
   "source": [
    "p_value = 1 - stats.t.cdf(t_stats, df)\n",
    "p_value"
   ]
  },
  {
   "cell_type": "code",
   "execution_count": 47,
   "metadata": {},
   "outputs": [
    {
     "data": {
      "text/plain": [
       "0.4784076815070038"
      ]
     },
     "execution_count": 47,
     "metadata": {},
     "output_type": "execute_result"
    }
   ],
   "source": [
    "p_value=norm.sf(abs(t_stats))\n",
    "p_value"
   ]
  },
  {
   "cell_type": "code",
   "execution_count": 52,
   "metadata": {},
   "outputs": [
    {
     "data": {
      "text/plain": [
       "0.9568153630140076"
      ]
     },
     "execution_count": 52,
     "metadata": {},
     "output_type": "execute_result"
    }
   ],
   "source": [
    "# for two tailed test\n",
    "p_val_2_tail = p_value*2\n",
    "p_val_2_tail"
   ]
  },
  {
   "cell_type": "markdown",
   "metadata": {},
   "source": [
    "### Conclusion based on p Value"
   ]
  },
  {
   "cell_type": "markdown",
   "metadata": {},
   "source": [
    "1) p_value>Significance value= We fail to reject the hypothesis\n",
    "2) p_value < Significance value = We reject Null Hypothesis"
   ]
  },
  {
   "cell_type": "code",
   "execution_count": 51,
   "metadata": {},
   "outputs": [
    {
     "name": "stdout",
     "output_type": "stream",
     "text": [
      "fail to reject the null hyphothesis\n"
     ]
    }
   ],
   "source": [
    "if p_val_2_tail<significance_value:\n",
    "    print(\"reject the null hyphothesis\")\n",
    "    \n",
    "else:\n",
    "    print(\"fail to reject the null hyphothesis\")"
   ]
  },
  {
   "cell_type": "markdown",
   "metadata": {},
   "source": [
    "##  Other Way to Perform One Sample t-test"
   ]
  },
  {
   "cell_type": "code",
   "execution_count": 33,
   "metadata": {},
   "outputs": [
    {
     "data": {
      "text/plain": [
       "(0.06571158681525265, 0.9485365883215872)"
      ]
     },
     "execution_count": 33,
     "metadata": {},
     "output_type": "execute_result"
    }
   ],
   "source": [
    "t_val, p_val = scipy.stats.ttest_1samp(sample_score,population_mean)\n",
    "t_val, p_val"
   ]
  },
  {
   "cell_type": "markdown",
   "metadata": {},
   "source": [
    "#"
   ]
  },
  {
   "cell_type": "markdown",
   "metadata": {},
   "source": [
    "## 1. Independent Samples t-test"
   ]
  },
  {
   "cell_type": "markdown",
   "metadata": {},
   "source": [
    "https://www.geeksforgeeks.org/t-test/"
   ]
  },
  {
   "cell_type": "markdown",
   "metadata": {},
   "source": []
  }
 ],
 "metadata": {
  "kernelspec": {
   "display_name": "base",
   "language": "python",
   "name": "python3"
  },
  "language_info": {
   "codemirror_mode": {
    "name": "ipython",
    "version": 3
   },
   "file_extension": ".py",
   "mimetype": "text/x-python",
   "name": "python",
   "nbconvert_exporter": "python",
   "pygments_lexer": "ipython3",
   "version": "3.9.12"
  }
 },
 "nbformat": 4,
 "nbformat_minor": 2
}

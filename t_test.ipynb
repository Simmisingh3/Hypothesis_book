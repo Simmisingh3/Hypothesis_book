{
 "cells": [
  {
   "cell_type": "markdown",
   "metadata": {},
   "source": [
    "# t-test"
   ]
  },
  {
   "cell_type": "markdown",
   "metadata": {},
   "source": [
    "## Definition\n",
    "#### A t-test is a type of inferential statistic test used to determine if there is a significant difference between the means of two groups. It is often used when data is normally distributed and population variance is unknown. The t-test is used in hypothesis testing to assess whether the observed difference between the means of the two groups is statistically significant or just due to random variation.\n",
    "#### It is employed in statistical inference, especially when there is a **limited** sample size or when the population standard deviation is **unknown**."
   ]
  },
  {
   "cell_type": "markdown",
   "metadata": {},
   "source": [
    "### Key terms in t-Test\n",
    "The most used key terms in T-test are as follows:\n",
    "\n",
    "#### **T-statistic**: The t-statistic is a measure of the difference between the means of two groups relative to the variability within each group. It is calculated as the difference between the sample means divided by the standard error of the difference. It is also known as the t-value or t-score\n",
    "If the t-value is large => the two groups belong to different groups. \n",
    "If the t-value is small => the two groups belong to the same group.\n",
    "#### **T-Distribution**: The t-distribution, commonly known as the Student’s t-distribution, is a probability distribution with tails that are thicker than those of the normal distribution. It is employed in statistical inference when working with small sample sizes and population standard deviations are unknown. The t-distribution gets closer to the normal distribution as the sample size rises.  It plays a crucial role in hypothesis testing and estimating population parameters with limited data.\n",
    "#### **Degree of freedom (df)**: The degree of freedom represents the number of values in a calculation that is free to vary. The degree of freedom (df)  tells us the number of independent variables used for calculating the estimate between 2 sample groups.\n",
    "In a t-test, the degree of freedom is calculated as the total sample size minus 1 i.e\n",
    "**df= (n-1)**     , where “n” is the number of observations in the sample. \n",
    "\n",
    "Suppose, we have 2 samples A and B. The df would be calculated as **df = (nA-1) + (nB -1)**\n",
    "#### **Significance level (α)**: It is the probability of rejecting the null hypothesis when it is true. In simpler terms, it tells us about the percentage of risk involved in saying that a difference exists between two groups when in reality it does not.\n",
    "\n",
    "Types of t-tests\n",
    "There are three types of t-tests, and they are categorized as dependent and independent t-tests.\n",
    "\n",
    "1. **One sample t-test**: Test the mean of a single group against a known mean.\n",
    "2. **Independent samples t-test**: compares the means for two groups.\n",
    "3. **Paired sample t-test**: compares means from the same group at different times (say, one year apart).\n"
   ]
  },
  {
   "cell_type": "markdown",
   "metadata": {},
   "source": [
    "# 1. ***One Sample t-test***"
   ]
  },
  {
   "cell_type": "markdown",
   "metadata": {},
   "source": [
    "One sample t-test is one of the widely used t-tests for comparison of the sample mean of the data to a particularly given value. Used for comparing the sample mean to the true/population mean.\n",
    "\n",
    "Used when:\n",
    "1. the sample size is small. (under 30) data is collected randomly. \n",
    "2. data is approximately normally distributed."
   ]
  },
  {
   "cell_type": "markdown",
   "metadata": {},
   "source": [
    "#### formula\n",
    "\n",
    "t = (x_bar - μ)/(σ/sqrt(n))\n",
    "\n",
    "where t = t-value\n",
    "\n",
    "x_bar = sample mean\n",
    "\n",
    "μ = true/population mean\n",
    "\n",
    "σ = standard deviation\n",
    "\n",
    "n = sample size"
   ]
  },
  {
   "cell_type": "markdown",
   "metadata": {},
   "source": [
    "### Steps"
   ]
  },
  {
   "cell_type": "markdown",
   "metadata": {},
   "source": [
    "***Step 1*** - Define the null (h0) and alternative (h1) hypothesis.\n",
    "\n",
    "***Step 2*** - Calculate sample mean. (if not given) \n",
    "     [population mean, standard deviation, n is given]\n",
    "\n",
    "***Step 3*** - Put the values found in Step 1 into above formula of One sample t-test and calculate t-value. (tcal)\n",
    "\n",
    "***Step 4*** - Calculate degree of freedom (df). \n",
    "\n",
    "***Step 5*** - Take α = 0.05 if not given. Use the value of df and α and find ttable from above t-table \n",
    "        in one tailed.\n",
    "\n",
    "***Step 6*** - Compare values of t found in Step-3 and Step-5"
   ]
  },
  {
   "cell_type": "markdown",
   "metadata": {},
   "source": [
    "## Q 1. Ragini was playing cricket and she claims that she scored around  26 runs per match. One of her fans are saying otherwise.\n",
    "#### 1. State the Null and alternative hypothesis.\n",
    "#### 2. Is her fan telling the truth where? At a 5% Significance level, is there anough evidence to support the idea that her fan is right?"
   ]
  },
  {
   "cell_type": "code",
   "execution_count": 1,
   "metadata": {},
   "outputs": [],
   "source": [
    "import numpy as np\n",
    "import scipy.stats as stats\n",
    "from numpy.random import randn\n",
    "import seaborn as sns \n",
    "from scipy.stats import norm\n",
    "import scipy"
   ]
  },
  {
   "cell_type": "markdown",
   "metadata": {},
   "source": [
    "### 1) Null_Hypothesis= Ho: u = 26.35\n",
    "### 2) Alternate_Hypothesis = Hi: u! = 26.35 (Two_tailed_test)\n",
    "### where, Ho = Null Hypothesis, Hi = Alternate Hypothesis and u = mean"
   ]
  },
  {
   "cell_type": "code",
   "execution_count": 4,
   "metadata": {},
   "outputs": [],
   "source": [
    "# Population Data\n",
    "my_cricket_score=[22,38,19,15,48,11,10,49,47,38,10,25,46,10,21,24,29,36,25,25,30,15,7,40,33,24,11,30]"
   ]
  },
  {
   "cell_type": "code",
   "execution_count": 9,
   "metadata": {},
   "outputs": [
    {
     "data": {
      "text/plain": [
       "28"
      ]
     },
     "execution_count": 9,
     "metadata": {},
     "output_type": "execute_result"
    }
   ],
   "source": [
    "# Population size\n",
    "len(my_cricket_score)"
   ]
  },
  {
   "cell_type": "code",
   "execution_count": 19,
   "metadata": {},
   "outputs": [
    {
     "data": {
      "text/plain": [
       "26.357142857142858"
      ]
     },
     "execution_count": 19,
     "metadata": {},
     "output_type": "execute_result"
    }
   ],
   "source": [
    "# Population Mean\n",
    "population_mean = np.mean(my_cricket_score)\n",
    "population_mean"
   ]
  },
  {
   "cell_type": "code",
   "execution_count": 20,
   "metadata": {},
   "outputs": [],
   "source": [
    "# Population standard deviation\n",
    "pop_std = np.std(my_cricket_score)"
   ]
  },
  {
   "cell_type": "code",
   "execution_count": 21,
   "metadata": {},
   "outputs": [
    {
     "data": {
      "text/plain": [
       "array([21, 15, 24, 48, 25, 40, 38, 24, 10, 29, 30, 11, 29, 24, 30])"
      ]
     },
     "execution_count": 21,
     "metadata": {},
     "output_type": "execute_result"
    }
   ],
   "source": [
    "# Sample Data\n",
    "sample_size = 15\n",
    "sample_score = np.random.choice(my_cricket_score,sample_size)\n",
    "sample_score"
   ]
  },
  {
   "cell_type": "code",
   "execution_count": 35,
   "metadata": {},
   "outputs": [
    {
     "data": {
      "text/plain": [
       "26.533333333333335"
      ]
     },
     "execution_count": 35,
     "metadata": {},
     "output_type": "execute_result"
    }
   ],
   "source": [
    "# Sample Mean\n",
    "sample_mean = np.mean(sample_score)\n",
    "sample_mean"
   ]
  },
  {
   "cell_type": "markdown",
   "metadata": {},
   "source": [
    "### t statistics"
   ]
  },
  {
   "cell_type": "code",
   "execution_count": 36,
   "metadata": {},
   "outputs": [
    {
     "data": {
      "text/plain": [
       "0.054150368261580935"
      ]
     },
     "execution_count": 36,
     "metadata": {},
     "output_type": "execute_result"
    }
   ],
   "source": [
    "# Calculate the t-statistic\n",
    "t_stats = (sample_mean-population_mean)/((pop_std)/(np.sqrt(sample_size)))\n",
    "t_stats"
   ]
  },
  {
   "cell_type": "markdown",
   "metadata": {},
   "source": [
    "### Degree of Freedom"
   ]
  },
  {
   "cell_type": "code",
   "execution_count": 26,
   "metadata": {},
   "outputs": [
    {
     "data": {
      "text/plain": [
       "14"
      ]
     },
     "execution_count": 26,
     "metadata": {},
     "output_type": "execute_result"
    }
   ],
   "source": [
    "df = sample_size-1\n",
    "df"
   ]
  },
  {
   "cell_type": "code",
   "execution_count": 49,
   "metadata": {},
   "outputs": [],
   "source": [
    "# Significance level\n",
    "significance_value = 0.05\n",
    "alpha = (significance_value/2) # 2 tailed test"
   ]
  },
  {
   "cell_type": "markdown",
   "metadata": {},
   "source": [
    "### t critical"
   ]
  },
  {
   "cell_type": "code",
   "execution_count": 50,
   "metadata": {},
   "outputs": [
    {
     "data": {
      "text/plain": [
       "2.1447866879169273"
      ]
     },
     "execution_count": 50,
     "metadata": {},
     "output_type": "execute_result"
    }
   ],
   "source": [
    "confidence_interval = 0.95\n",
    "t_critical = stats.t.ppf(1-alpha,df)\n",
    "t_critical"
   ]
  },
  {
   "cell_type": "markdown",
   "metadata": {},
   "source": [
    "### Upper and Lower limits forming Decision Boundary"
   ]
  },
  {
   "cell_type": "code",
   "execution_count": 38,
   "metadata": {},
   "outputs": [
    {
     "name": "stdout",
     "output_type": "stream",
     "text": [
      "-2.1447866879169273\n",
      "2.1447866879169273\n"
     ]
    }
   ],
   "source": [
    "t_crit_upper = +(t_critical)\n",
    "t_crit_lower = -(t_critical)\n",
    "print(t_crit_lower)\n",
    "print(t_crit_upper)"
   ]
  },
  {
   "cell_type": "markdown",
   "metadata": {},
   "source": [
    "## Conclusion"
   ]
  },
  {
   "cell_type": "markdown",
   "metadata": {},
   "source": [
    "### Conclusion based on t value"
   ]
  },
  {
   "cell_type": "code",
   "execution_count": null,
   "metadata": {},
   "outputs": [],
   "source": [
    "if t_crit_lower>t_stats or t_stats>t_crit_upper:\n",
    "    print(\"reject the null hyphothesis\")\n",
    "else:\n",
    "    print(\"fail to reject the null hyphothesis\")"
   ]
  },
  {
   "cell_type": "markdown",
   "metadata": {},
   "source": [
    "Since the t_stats falls between the lower and upper limits of t_critical, we fail to reject Null hypothesis. This means that Ragini was right."
   ]
  },
  {
   "cell_type": "markdown",
   "metadata": {},
   "source": [
    "### p Value"
   ]
  },
  {
   "cell_type": "code",
   "execution_count": 37,
   "metadata": {},
   "outputs": [
    {
     "data": {
      "text/plain": [
       "0.4787902556449969"
      ]
     },
     "execution_count": 37,
     "metadata": {},
     "output_type": "execute_result"
    }
   ],
   "source": [
    "p_value = 1 - stats.t.cdf(t_stats, df)\n",
    "p_value"
   ]
  },
  {
   "cell_type": "code",
   "execution_count": 47,
   "metadata": {},
   "outputs": [
    {
     "data": {
      "text/plain": [
       "0.4784076815070038"
      ]
     },
     "execution_count": 47,
     "metadata": {},
     "output_type": "execute_result"
    }
   ],
   "source": [
    "p_value=norm.sf(abs(t_stats))\n",
    "p_value"
   ]
  },
  {
   "cell_type": "code",
   "execution_count": 52,
   "metadata": {},
   "outputs": [
    {
     "data": {
      "text/plain": [
       "0.9568153630140076"
      ]
     },
     "execution_count": 52,
     "metadata": {},
     "output_type": "execute_result"
    }
   ],
   "source": [
    "# for two tailed test\n",
    "p_val_2_tail = p_value*2\n",
    "p_val_2_tail"
   ]
  },
  {
   "cell_type": "markdown",
   "metadata": {},
   "source": [
    "### Conclusion based on p Value"
   ]
  },
  {
   "cell_type": "markdown",
   "metadata": {},
   "source": [
    "1) p_value>Significance value= We fail to reject the hypothesis\n",
    "2) p_value < Significance value = We reject Null Hypothesis"
   ]
  },
  {
   "cell_type": "code",
   "execution_count": 51,
   "metadata": {},
   "outputs": [
    {
     "name": "stdout",
     "output_type": "stream",
     "text": [
      "fail to reject the null hyphothesis\n"
     ]
    }
   ],
   "source": [
    "if p_val_2_tail<significance_value:\n",
    "    print(\"reject the null hyphothesis\")\n",
    "    \n",
    "else:\n",
    "    print(\"fail to reject the null hyphothesis\")"
   ]
  },
  {
   "cell_type": "markdown",
   "metadata": {},
   "source": [
    "##  Other Way to Perform One Sample t-test"
   ]
  },
  {
   "cell_type": "code",
   "execution_count": 33,
   "metadata": {},
   "outputs": [
    {
     "data": {
      "text/plain": [
       "(0.06571158681525265, 0.9485365883215872)"
      ]
     },
     "execution_count": 33,
     "metadata": {},
     "output_type": "execute_result"
    }
   ],
   "source": [
    "t_val, p_val = scipy.stats.ttest_1samp(sample_score,population_mean)\n",
    "t_val, p_val"
   ]
  },
  {
   "cell_type": "code",
   "execution_count": null,
   "metadata": {},
   "outputs": [],
   "source": []
  },
  {
   "cell_type": "markdown",
   "metadata": {},
   "source": [
    "#"
   ]
  },
  {
   "cell_type": "markdown",
   "metadata": {},
   "source": [
    "# 2. ***Independent Samples t-test***"
   ]
  },
  {
   "cell_type": "markdown",
   "metadata": {},
   "source": [
    "1. Independent sample t-test\n",
    "An Independent sample t-test, commonly known as an unpaired sample t-test is used to find out if the differences found between two groups is actually significant or just a random occurrence. \n",
    "\n",
    "We can use this when:\n",
    "\n",
    "the population mean or standard deviation is unknown. (information about the population is unknown)\n",
    "the two samples are separate/independent. For eg. boys and girls (the two are independent of each other)"
   ]
  },
  {
   "cell_type": "markdown",
   "metadata": {},
   "source": [
    "### Formula Used\n",
    "t = (μA - μB)/sqrt[1/nA+1/μB]*[(Z A^2-((Z A)^2/nA))+(Z B^2-((Z B)^2/nB))] * [1/df]"
   ]
  },
  {
   "cell_type": "markdown",
   "metadata": {},
   "source": [
    "where,\n",
    "t = t-value \n",
    "\n",
    "A = Sample of A\n",
    "\n",
    "B = Sample of B\n",
    "\n",
    "μA = Mean of sample A\n",
    "\n",
    "μB = Mean of sample B\n",
    "\n",
    "nA = samele size of A  \n",
    "\n",
    "nB = sample size of B \n",
    "\n",
    "df = degree of freedom\n",
    "\n",
    "Z = Summation"
   ]
  },
  {
   "cell_type": "markdown",
   "metadata": {},
   "source": [
    "## For 2 samples A and B. The df would be calculated as df = (nA-1) + (nB -1)"
   ]
  },
  {
   "cell_type": "markdown",
   "metadata": {},
   "source": [
    "### Interpreting the results\n",
    "If tcal > ttable => p < (α=0.05) => significant difference between two groups found.\n",
    "\n",
    "If tcal < ttable => p > (α=0.05) => no significant difference between two groups."
   ]
  },
  {
   "cell_type": "markdown",
   "metadata": {},
   "source": [
    "## Q 2. Me and Virat are playing cricket. Virat Scored a mean of around 44 runs and I scored a mean of around 36 runs. One of the Virat fans are Claiming that he played better than me. \n",
    "#### 1. State the Null and alternative hypothesis.\n",
    "#### 2. Is Virat's fan telling the truth? At a 5% Significance level, is there anough evidence to support the idea that his fan is right?"
   ]
  },
  {
   "cell_type": "code",
   "execution_count": 24,
   "metadata": {},
   "outputs": [],
   "source": [
    "#two-sample t test(with respect to two independent sample)\n",
    "my_cricket_score=[22, 38, 29, 45, 48, 41, 40, 49, 47, 38, 20, 45, 46, 50, 21, 44, 29,36, 25, 24, 25, 30, 34, 32, 33]\n",
    "\n",
    "virat_cricket_score=[33, 45, 23, 25, 46, 46, 46, 49, 49, 84, 44, 79, 65, 31, 25, 40, 30,20, 42, 37, 40, 36, 43, 78, 50]"
   ]
  },
  {
   "cell_type": "code",
   "execution_count": 25,
   "metadata": {},
   "outputs": [
    {
     "data": {
      "text/plain": [
       "(25, 25)"
      ]
     },
     "execution_count": 25,
     "metadata": {},
     "output_type": "execute_result"
    }
   ],
   "source": [
    "len(my_cricket_score), len(virat_cricket_score)"
   ]
  },
  {
   "cell_type": "markdown",
   "metadata": {},
   "source": [
    "### 1) Null_Hypothesis= Ho: u_virat_score = u_my_score \n",
    "### 2) Alternate_Hypothesis = Hi: u_virat_score > u_my_score , 1 Tailed test, right sided.\n",
    "### where, Ho = Null Hypothesis, Hi = Alternate Hypothesis and u = mean"
   ]
  },
  {
   "cell_type": "code",
   "execution_count": 26,
   "metadata": {},
   "outputs": [
    {
     "name": "stdout",
     "output_type": "stream",
     "text": [
      "My Cricker Score's mean is  35.64\n",
      "\n",
      "Virat's Cricket score's mean is  44.24\n"
     ]
    }
   ],
   "source": [
    "my_cricket_score_mean = np.mean(my_cricket_score)\n",
    "virat_cricket_score_mean = np.mean(virat_cricket_score)\n",
    "print(\"My Cricker Score's mean is \", my_cricket_score_mean)\n",
    "print(\"\\nVirat's Cricket score's mean is \", virat_cricket_score_mean)"
   ]
  },
  {
   "cell_type": "markdown",
   "metadata": {},
   "source": [
    "### Degree of Freedom"
   ]
  },
  {
   "cell_type": "code",
   "execution_count": 56,
   "metadata": {},
   "outputs": [],
   "source": [
    "virat_no_of_matches = 25\n",
    "my_no_of_matches = 25\n",
    "df = virat_no_of_matches + my_no_of_matches - 2"
   ]
  },
  {
   "cell_type": "markdown",
   "metadata": {},
   "source": [
    "### 3. Confidence Interval and Decision Boundry"
   ]
  },
  {
   "cell_type": "markdown",
   "metadata": {},
   "source": [
    "### t_critical"
   ]
  },
  {
   "cell_type": "code",
   "execution_count": 37,
   "metadata": {},
   "outputs": [
    {
     "data": {
      "text/plain": [
       "1.6772241953450393"
      ]
     },
     "execution_count": 37,
     "metadata": {},
     "output_type": "execute_result"
    }
   ],
   "source": [
    "confidence_interval = 0.95\n",
    "alpha = 0.05\n",
    "t_critical = stats.t.ppf(1-alpha,df)\n",
    "t_critical"
   ]
  },
  {
   "cell_type": "markdown",
   "metadata": {},
   "source": [
    "Since it is one tailed right sided test thats why the t_critical should be greater than t_statistics in order to accept the Null hypothesis"
   ]
  },
  {
   "cell_type": "markdown",
   "metadata": {},
   "source": [
    "### t statistics and p Value"
   ]
  },
  {
   "cell_type": "code",
   "execution_count": 38,
   "metadata": {},
   "outputs": [],
   "source": [
    "t_statistics, p_value = scipy.stats.ttest_ind(virat_cricket_score, my_cricket_score)"
   ]
  },
  {
   "cell_type": "code",
   "execution_count": 39,
   "metadata": {},
   "outputs": [
    {
     "data": {
      "text/plain": [
       "(2.2055729414213086, 0.032235802688250735)"
      ]
     },
     "execution_count": 39,
     "metadata": {},
     "output_type": "execute_result"
    }
   ],
   "source": [
    "t_statistics, p_value"
   ]
  },
  {
   "cell_type": "markdown",
   "metadata": {},
   "source": [
    "# 5. Conclusion"
   ]
  },
  {
   "cell_type": "markdown",
   "metadata": {},
   "source": [
    "## Using p Value"
   ]
  },
  {
   "cell_type": "code",
   "execution_count": 43,
   "metadata": {},
   "outputs": [
    {
     "name": "stdout",
     "output_type": "stream",
     "text": [
      "We reject the null hyphothesis\n"
     ]
    }
   ],
   "source": [
    "if p_value<=0.05:\n",
    "    print(\"We reject the null hyphothesis\")\n",
    "else:\n",
    "    print(\"We Fail to reject the null hyphothesis\")"
   ]
  },
  {
   "cell_type": "markdown",
   "metadata": {},
   "source": [
    "## Using t test"
   ]
  },
  {
   "cell_type": "code",
   "execution_count": 41,
   "metadata": {},
   "outputs": [
    {
     "name": "stdout",
     "output_type": "stream",
     "text": [
      "We reject the Null Hypothesis\n"
     ]
    }
   ],
   "source": [
    "if t_statistics<t_critical:\n",
    "    print(\"We fail to reject the Null Hypothesis\")\n",
    "else:\n",
    "    print(\"We reject the Null Hypothesis\")"
   ]
  },
  {
   "cell_type": "markdown",
   "metadata": {},
   "source": []
  },
  {
   "cell_type": "markdown",
   "metadata": {},
   "source": [
    "# 3. ***Paired Sample t test***"
   ]
  },
  {
   "cell_type": "markdown",
   "metadata": {},
   "source": [
    "Paired sample t-test, commonly known as dependent sample t-test is used to find out if the difference in the mean of two samples is 0. The test is done on dependent samples, usually focusing on a particular group of people or things. In this, each entity is measured twice, resulting in a pair of observations. \n",
    "\n",
    "We can use this when:\n",
    "\n",
    "1. Two similar (twin like) samples are given. [Eg, Scores obtained in English and Math (both subjects)]\n",
    "2. The dependent variable (data) is continuous.\n",
    "3. The observations are independent of one another.\n",
    "4. The dependent variable is approximately normally distributed."
   ]
  },
  {
   "cell_type": "markdown",
   "metadata": {},
   "source": [
    "## Q 3. I started playing cricket when i was 19 and did performed well till I was 28. Now am 37 and my new coach wanted to see if have maintained my performance from 28 till 37. I feel that i have performed the same way but my coach is not sure. He/She performed hypothesis test to confirm that.\n",
    "\n",
    "#### 1. State the Null and alternative hypothesis.\n",
    "#### 2. What do you think? At a 5% Significance level, is there anough evidence to support the idea that my coach is right? "
   ]
  },
  {
   "cell_type": "code",
   "execution_count": 2,
   "metadata": {},
   "outputs": [],
   "source": [
    "# This code is generating a list of scores of my 50 matches played, having scores between 10 to 80\n",
    "import random\n",
    "population=[]\n",
    "for i in range(1,51):\n",
    "    population.append(random.randint(10,80))"
   ]
  },
  {
   "cell_type": "code",
   "execution_count": 3,
   "metadata": {},
   "outputs": [
    {
     "data": {
      "text/plain": [
       "array([27, 66, 17, 15, 57, 59, 50, 11, 61, 38, 54, 65, 25, 70, 23, 63, 10,\n",
       "       23, 67, 76, 63, 46, 13, 70, 39, 73, 43, 19, 57, 77, 11, 11, 57, 61,\n",
       "       37, 66, 62, 55, 53, 76, 28, 59, 48, 46, 79, 33, 77, 27, 64, 64])"
      ]
     },
     "execution_count": 3,
     "metadata": {},
     "output_type": "execute_result"
    }
   ],
   "source": [
    "np.array(population)"
   ]
  },
  {
   "cell_type": "code",
   "execution_count": 4,
   "metadata": {},
   "outputs": [
    {
     "data": {
      "text/plain": [
       "50"
      ]
     },
     "execution_count": 4,
     "metadata": {},
     "output_type": "execute_result"
    }
   ],
   "source": [
    "len(population)"
   ]
  },
  {
   "cell_type": "markdown",
   "metadata": {},
   "source": [
    "### 1) Null_Hypothesis= Ho: u_my_cricket_score_19_to_28 = u_my_cricket_score_28_to_37 \n",
    "### 2) Alternate_Hypothesis = Hi: u_my_cricket_score_19_to_28 > u_my_cricket_score_28_to_37 , 2 Tailed test.\n",
    "### where, Ho = Null Hypothesis, Hi = Alternate Hypothesis and u = mean"
   ]
  },
  {
   "cell_type": "code",
   "execution_count": 52,
   "metadata": {},
   "outputs": [
    {
     "name": "stdout",
     "output_type": "stream",
     "text": [
      "[63 70 59 33 66 79 55 46 57 11 25 11 67 13 67 64 63 39 15 65]\n",
      "[57 59 46 76 11 59 15 39 70 11 48 11 59 70 66 43 50 28 59 59]\n",
      "\n",
      "My Cricker Score's mean from the age of 19 till 28 is  48.4\n",
      "My Cricket score's mean from the age of 28 till 37 is  46.8\n"
     ]
    }
   ],
   "source": [
    "my_cricket_score_19_to_28 = np.random.choice(population,size=20)\n",
    "my_cricket_score_28_to_37 = np.random.choice(population,size=20)\n",
    "\n",
    "print(my_cricket_score_19_to_28)\n",
    "print(my_cricket_score_28_to_37)\n",
    "\n",
    "print(\"\\nMy Cricker Score's mean from the age of 19 till 28 is \", np.mean(my_cricket_score_19_to_28))\n",
    "print(\"My Cricket score's mean from the age of 28 till 37 is \", np.mean(my_cricket_score_28_to_37))"
   ]
  },
  {
   "cell_type": "markdown",
   "metadata": {},
   "source": [
    "### Degree of Freedom"
   ]
  },
  {
   "cell_type": "markdown",
   "metadata": {},
   "source": [
    "NOTE :  Here, df is calculated as a whole for the data, not for each individual sample set. This is because the two samples A and B are twin like. (similar) \n",
    "\n",
    "So, df = ∑(nS – 1) = N-1"
   ]
  },
  {
   "cell_type": "code",
   "execution_count": 60,
   "metadata": {},
   "outputs": [],
   "source": [
    "no_of_matches_till_28 = 20\n",
    "no_of_matches_till_37 = 20\n",
    "# Here we can take sample size of either of the data\n",
    "df = no_of_matches_till_28  - 1"
   ]
  },
  {
   "cell_type": "markdown",
   "metadata": {},
   "source": [
    "### 3. Confidence Interval and Decision Boundry"
   ]
  },
  {
   "cell_type": "markdown",
   "metadata": {},
   "source": [
    "### t Critical"
   ]
  },
  {
   "cell_type": "code",
   "execution_count": 64,
   "metadata": {},
   "outputs": [
    {
     "data": {
      "text/plain": [
       "2.093024054408263"
      ]
     },
     "execution_count": 64,
     "metadata": {},
     "output_type": "execute_result"
    }
   ],
   "source": [
    "confidence_interval = 0.95\n",
    "alpha = 0.05/2\n",
    "t_critical = stats.t.ppf(1-alpha,df)\n",
    "t_critical"
   ]
  },
  {
   "cell_type": "code",
   "execution_count": 65,
   "metadata": {},
   "outputs": [
    {
     "data": {
      "text/plain": [
       "(2.093024054408263, -2.093024054408263)"
      ]
     },
     "execution_count": 65,
     "metadata": {},
     "output_type": "execute_result"
    }
   ],
   "source": [
    "t_critical_upper = t_critical\n",
    "t_critical_lower = -t_critical\n",
    "t_critical_upper,t_critical_lower"
   ]
  },
  {
   "cell_type": "markdown",
   "metadata": {},
   "source": [
    "Since it is two tailed test, thats why decision boundry lies between -2.093024054408263 to +2.093024054408263"
   ]
  },
  {
   "cell_type": "markdown",
   "metadata": {},
   "source": [
    "### t Statistics and p Value"
   ]
  },
  {
   "cell_type": "code",
   "execution_count": 53,
   "metadata": {},
   "outputs": [
    {
     "data": {
      "text/plain": [
       "(0.26442621583612574, 0.794298608477759)"
      ]
     },
     "execution_count": 53,
     "metadata": {},
     "output_type": "execute_result"
    }
   ],
   "source": [
    "t_statistics ,p_value=scipy.stats.ttest_rel(my_cricket_score_19_to_28,my_cricket_score_28_to_37)\n",
    "t_statistics , p_value"
   ]
  },
  {
   "cell_type": "markdown",
   "metadata": {},
   "source": [
    "## Conclusion"
   ]
  },
  {
   "cell_type": "markdown",
   "metadata": {},
   "source": [
    "### Conclusion using p_value"
   ]
  },
  {
   "cell_type": "code",
   "execution_count": 54,
   "metadata": {},
   "outputs": [
    {
     "name": "stdout",
     "output_type": "stream",
     "text": [
      "Failed to reject the null hyphothesis\n"
     ]
    }
   ],
   "source": [
    "if p_value<=0.05:\n",
    "    print(\"reject the null hyphothesis\")\n",
    "else:\n",
    "    print(\"Failed to reject the null hyphothesis\")"
   ]
  },
  {
   "cell_type": "markdown",
   "metadata": {},
   "source": [
    "### Conclusion Using t test"
   ]
  },
  {
   "cell_type": "code",
   "execution_count": 66,
   "metadata": {},
   "outputs": [
    {
     "name": "stdout",
     "output_type": "stream",
     "text": [
      "We fail to reject the Null Hypothesis\n"
     ]
    }
   ],
   "source": [
    "if t_critical_lower<t_statistics or t_statistics<t_critical_upper:\n",
    "    print(\"We fail to reject the Null Hypothesis\")\n",
    "else:\n",
    "    print(\"We reject the Null Hypothesis\")"
   ]
  },
  {
   "cell_type": "markdown",
   "metadata": {},
   "source": [
    "## I am right and the coach was wrong. My Performance is maintained."
   ]
  },
  {
   "cell_type": "code",
   "execution_count": null,
   "metadata": {},
   "outputs": [],
   "source": []
  },
  {
   "cell_type": "code",
   "execution_count": null,
   "metadata": {},
   "outputs": [],
   "source": []
  },
  {
   "cell_type": "code",
   "execution_count": null,
   "metadata": {},
   "outputs": [],
   "source": []
  },
  {
   "cell_type": "markdown",
   "metadata": {},
   "source": []
  },
  {
   "cell_type": "markdown",
   "metadata": {},
   "source": [
    "https://www.geeksforgeeks.org/t-test/"
   ]
  },
  {
   "cell_type": "markdown",
   "metadata": {},
   "source": []
  }
 ],
 "metadata": {
  "kernelspec": {
   "display_name": "base",
   "language": "python",
   "name": "python3"
  },
  "language_info": {
   "codemirror_mode": {
    "name": "ipython",
    "version": 3
   },
   "file_extension": ".py",
   "mimetype": "text/x-python",
   "name": "python",
   "nbconvert_exporter": "python",
   "pygments_lexer": "ipython3",
   "version": "3.9.12"
  }
 },
 "nbformat": 4,
 "nbformat_minor": 2
}
